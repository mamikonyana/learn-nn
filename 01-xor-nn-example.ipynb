{
 "cells": [
  {
   "attachments": {},
   "cell_type": "markdown",
   "metadata": {},
   "source": [
    "# Learning XOR\n",
    "\n",
    "#### with pytorch"
   ]
  },
  {
   "cell_type": "code",
   "execution_count": 1,
   "metadata": {},
   "outputs": [],
   "source": [
    "import numpy as np\n",
    "from tqdm.notebook import tqdm\n",
    "import torch"
   ]
  },
  {
   "cell_type": "code",
   "execution_count": 2,
   "metadata": {},
   "outputs": [
    {
     "data": {
      "text/plain": [
       "array([[0, 0],\n",
       "       [0, 1],\n",
       "       [1, 0],\n",
       "       [1, 1]])"
      ]
     },
     "execution_count": 2,
     "metadata": {},
     "output_type": "execute_result"
    }
   ],
   "source": [
    "one_d_data = np.array([0, 1])\n",
    "\n",
    "INPUT_DATA = np.array(np.meshgrid(one_d_data, one_d_data)).T.reshape(-1, 2)\n",
    "INPUT_DATA\n"
   ]
  },
  {
   "cell_type": "code",
   "execution_count": null,
   "metadata": {},
   "outputs": [],
   "source": []
  },
  {
   "cell_type": "code",
   "execution_count": 3,
   "metadata": {},
   "outputs": [
    {
     "data": {
      "text/plain": [
       "array([0, 1, 1, 0])"
      ]
     },
     "execution_count": 3,
     "metadata": {},
     "output_type": "execute_result"
    }
   ],
   "source": [
    "INPUT_LABEL = INPUT_DATA[:, 0] ^ INPUT_DATA[:, 1]\n",
    "INPUT_LABEL"
   ]
  },
  {
   "attachments": {},
   "cell_type": "markdown",
   "metadata": {},
   "source": [
    "## Wrap around pytorch Dataset"
   ]
  },
  {
   "cell_type": "code",
   "execution_count": 4,
   "metadata": {},
   "outputs": [],
   "source": [
    "from torch.utils.data import Dataset\n",
    "\n",
    "\n",
    "class XORDataset(Dataset):\n",
    "    def __init__(self, dimensions=2, input_range=[0, 1], output_dtype=np.float32):\n",
    "        self.xx = np.array(np.meshgrid(*[input_range for _ in range(dimensions)])).T.reshape(-1, dimensions)\n",
    "        self.y = np.copy(self.xx[:, 0])  # Make sure to copy data\n",
    "        for i in range(1, dimensions):\n",
    "            self.y ^= self.xx[:, i]\n",
    "        self.output_dtype = output_dtype\n",
    "\n",
    "    def __len__(self):\n",
    "        return len(self.xx)\n",
    "\n",
    "    def __getitem__(self, indx):\n",
    "        return self.xx[indx, :].astype(self.output_dtype), self.y[indx].astype(self.output_dtype)\n",
    "\n",
    "xor_2d_dataset = XORDataset()"
   ]
  },
  {
   "cell_type": "code",
   "execution_count": 5,
   "metadata": {},
   "outputs": [
    {
     "name": "stdout",
     "output_type": "stream",
     "text": [
      "tensor([[0., 0.],\n",
      "        [0., 1.]]) tensor([0., 1.])\n",
      "torch.float32\n"
     ]
    }
   ],
   "source": [
    "from torch.utils.data import DataLoader\n",
    "\n",
    "def transform(x):\n",
    "    return x.float()\n",
    "\n",
    "data_loader = DataLoader(xor_2d_dataset, batch_size=2)\n",
    "\n",
    "batch_x, batch_y = list(data_loader)[0]\n",
    "print(batch_x, batch_y)\n",
    "\n",
    "print(batch_x.dtype)"
   ]
  },
  {
   "cell_type": "code",
   "execution_count": 6,
   "metadata": {},
   "outputs": [],
   "source": [
    "from collections import defaultdict\n",
    "import matplotlib.pyplot as plt\n",
    "\n",
    "class Logger:\n",
    "    def __init__(self, visual_period=100):\n",
    "        self.metrics = defaultdict(list)\n",
    "        self.visual_period = visual_period\n",
    "\n",
    "    def log_metric(self, metric, label, ts):\n",
    "        self.metrics[label].append((ts, metric))\n",
    "        if ts % self.visual_period == self.visual_period - 1:\n",
    "            plt.plot(*zip(*self.metrics[label]))\n",
    "            plt.show()\n",
    "\n",
    "    def log_image(self, *args):\n",
    "        print(*args)\n",
    "\n",
    "    def save_model(self):\n",
    "        pass"
   ]
  },
  {
   "cell_type": "code",
   "execution_count": 7,
   "metadata": {},
   "outputs": [],
   "source": [
    "from tqdm.notebook import tqdm\n",
    "import torch\n",
    "\n",
    "\n",
    "def train_loop(model, epochs, optimizer_fn, loss_fn, training_loader, validation_loader, logger):\n",
    "    optimizer = optimizer_fn(model.parameters())  # Instanciate here so to reduce bugs\n",
    "    for epoche_i in epochs:\n",
    "        model.train()\n",
    "        train_epoche(epoche_i, model, optimizer, loss_fn, training_loader, logger=logger)\n",
    "\n",
    "\n",
    "def train_epoche(epoch_index, model, optimizer, loss_fn, training_loader, logger):\n",
    "    running_loss = 0.\n",
    "    for i, (inputs, labels) in enumerate(training_loader):\n",
    "\n",
    "        # Zero your gradients for every batch!\n",
    "        optimizer.zero_grad()\n",
    "\n",
    "        outputs = model(inputs)\n",
    "\n",
    "        # Compute the loss and its gradients\n",
    "        loss = loss_fn(outputs, labels)\n",
    "\n",
    "        loss.backward()\n",
    "\n",
    "        # Adjust learning weights\n",
    "        optimizer.step()\n",
    "\n",
    "        # Gather data and report\n",
    "        running_loss += loss.item()\n",
    "\n",
    "    logger.log_metric(running_loss, 'Loss/train', epoch_index)"
   ]
  },
  {
   "cell_type": "code",
   "execution_count": 8,
   "metadata": {},
   "outputs": [
    {
     "name": "stderr",
     "output_type": "stream",
     "text": [
      "/Users/arsen/Workspace/python-nn-playground/.venv/3.11/lib/python3.11/site-packages/torch/nn/modules/loss.py:536: UserWarning: Using a target size (torch.Size([1])) that is different to the input size (torch.Size([1, 1])). This will likely lead to incorrect results due to broadcasting. Please ensure they have the same size.\n",
      "  return F.mse_loss(input, target, reduction=self.reduction)\n"
     ]
    },
    {
     "data": {
      "image/png": "[encoded data removed]",
      "text/plain": [
       "<Figure size 640x480 with 1 Axes>"
      ]
     },
     "metadata": {},
     "output_type": "display_data"
    }
   ],
   "source": [
    "\n",
    "## TRAINING IN A SEPARATE CELL FOR PURPOSE (ideally should be a function)\n",
    "torch.manual_seed(420)\n",
    "\n",
    "from functools import partial\n",
    "from torch import nn\n",
    "import torch\n",
    "\n",
    "\n",
    "class TwoLayerMLP(nn.Sequential):\n",
    "    def __init__(self, input_dim, middle_dim=None, activation_layer=nn.Sigmoid):\n",
    "        layers = [\n",
    "            nn.Linear(input_dim, middle_dim or input_dim, bias=True),\n",
    "            activation_layer(),\n",
    "            nn.Linear(middle_dim or input_dim, 1, bias=True),\n",
    "        ]\n",
    "        super().__init__(*layers)\n",
    "\n",
    "_EPOCHS = 2_000\n",
    "_DIMENSION = 2\n",
    "\n",
    "model = TwoLayerMLP(input_dim=_DIMENSION, middle_dim=2)   # Square 2 x 2 network\n",
    "\n",
    "xor_2d_dataset = XORDataset(dimensions=2)\n",
    "\n",
    "sgd_with_lr_02 = partial(torch.optim.SGD, lr=0.2)\n",
    "\n",
    "mse_loss_fn = nn.MSELoss()\n",
    "\n",
    "train_loop(model,\n",
    "           list(range(0, 1 + _EPOCHS)),\n",
    "            sgd_with_lr_02,\n",
    "            mse_loss_fn,\n",
    "            DataLoader(xor_2d_dataset, batch_size=1, shuffle=False),\n",
    "            None,\n",
    "            Logger(visual_period=_EPOCHS))"
   ]
  },
  {
   "cell_type": "code",
   "execution_count": 9,
   "metadata": {},
   "outputs": [
    {
     "data": {
      "text/plain": [
       "array([[1.7881393e-07, 0.0000000e+00],\n",
       "       [9.9999994e-01, 1.0000000e+00],\n",
       "       [1.0000000e+00, 1.0000000e+00],\n",
       "       [5.9604645e-08, 0.0000000e+00]], dtype=float32)"
      ]
     },
     "execution_count": 9,
     "metadata": {},
     "output_type": "execute_result"
    }
   ],
   "source": [
    "\n",
    "valid_loader = DataLoader(xor_2d_dataset, batch_size=len(xor_2d_dataset), shuffle=False)\n",
    "[[x, y]] = list(valid_loader)\n",
    "np.vstack([model(x).detach().numpy().squeeze(), y.numpy()]).T"
   ]
  },
  {
   "cell_type": "code",
   "execution_count": 10,
   "metadata": {},
   "outputs": [
    {
     "data": {
      "image/png": "[encoded data removed]",
      "text/plain": [
       "<Figure size 640x480 with 1 Axes>"
      ]
     },
     "metadata": {},
     "output_type": "display_data"
    }
   ],
   "source": [
    "\n",
    "torch.manual_seed(420)\n",
    "model = TwoLayerMLP(input_dim=_DIMENSION, middle_dim=2)   # Square 2 x 2 network\n",
    "\n",
    "train_loop(model,\n",
    "           list(range(0, 1 + _EPOCHS)),\n",
    "            sgd_with_lr_02,\n",
    "            mse_loss_fn,\n",
    "            DataLoader(xor_2d_dataset, batch_size=1, shuffle=True),\n",
    "            None,\n",
    "            Logger(visual_period=_EPOCHS))"
   ]
  },
  {
   "cell_type": "code",
   "execution_count": 11,
   "metadata": {},
   "outputs": [
    {
     "name": "stderr",
     "output_type": "stream",
     "text": [
      "/Users/arsen/Workspace/python-nn-playground/.venv/3.11/lib/python3.11/site-packages/torch/nn/modules/loss.py:536: UserWarning: Using a target size (torch.Size([2])) that is different to the input size (torch.Size([2, 1])). This will likely lead to incorrect results due to broadcasting. Please ensure they have the same size.\n",
      "  return F.mse_loss(input, target, reduction=self.reduction)\n"
     ]
    },
    {
     "data": {
      "image/png": "[encoded data removed]",
      "text/plain": [
       "<Figure size 640x480 with 1 Axes>"
      ]
     },
     "metadata": {},
     "output_type": "display_data"
    }
   ],
   "source": [
    "\n",
    "\n",
    "torch.manual_seed(420)\n",
    "\n",
    "train_loop(\n",
    "    TwoLayerMLP(input_dim=_DIMENSION, middle_dim=2),\n",
    "    list(range(0, 1 + _EPOCHS)),\n",
    "    sgd_with_lr_02,\n",
    "    mse_loss_fn,\n",
    "    DataLoader(xor_2d_dataset, batch_size=2, shuffle=True),\n",
    "    None,\n",
    "    Logger(visual_period=_EPOCHS),\n",
    ")"
   ]
  },
  {
   "attachments": {},
   "cell_type": "markdown",
   "metadata": {},
   "source": [
    "## Oops what happened? it doesn't train with batch size = 2!!!!\n",
    "\n",
    "The problem is that it calculated the gradient for 2 differnet elements, that want to move the weights in different directions!!! (TODO: visualize)"
   ]
  },
  {
   "attachments": {},
   "cell_type": "markdown",
   "metadata": {},
   "source": [
    "## Something else to investigate in the future is why it doesn't learn with ReLU instead of sigmoid!!!??"
   ]
  },
  {
   "cell_type": "code",
   "execution_count": 12,
   "metadata": {},
   "outputs": [
    {
     "data": {
      "image/png": "[encoded data removed]",
      "text/plain": [
       "<Figure size 640x480 with 1 Axes>"
      ]
     },
     "metadata": {},
     "output_type": "display_data"
    }
   ],
   "source": [
    "torch.manual_seed(420)\n",
    "\n",
    "train_loop(\n",
    "    TwoLayerMLP(input_dim=_DIMENSION, middle_dim=2, activation_layer=nn.ReLU),\n",
    "    list(range(0, 1 + _EPOCHS)),\n",
    "    partial(torch.optim.SGD, lr=0.2),\n",
    "    mse_loss_fn,\n",
    "    DataLoader(xor_2d_dataset, batch_size=1, shuffle=False),\n",
    "    None,\n",
    "    Logger(visual_period=_EPOCHS),\n",
    ")"
   ]
  },
  {
   "attachments": {},
   "cell_type": "markdown",
   "metadata": {},
   "source": []
  },
  {
   "cell_type": "code",
   "execution_count": 13,
   "metadata": {},
   "outputs": [
    {
     "data": {
      "text/plain": [
       "array([[ 2.3841858e-07,  0.0000000e+00],\n",
       "       [ 9.9999988e-01,  1.0000000e+00],\n",
       "       [ 9.9999988e-01,  1.0000000e+00],\n",
       "       [-1.1920929e-07,  0.0000000e+00]], dtype=float32)"
      ]
     },
     "execution_count": 13,
     "metadata": {},
     "output_type": "execute_result"
    }
   ],
   "source": [
    "\n",
    "valid_loader = DataLoader(xor_2d_dataset, batch_size=len(xor_2d_dataset), shuffle=False)\n",
    "[[x, y]] = list(valid_loader)\n",
    "np.vstack([model(x).detach().numpy().squeeze(), y.numpy()]).T"
   ]
  },
  {
   "attachments": {},
   "cell_type": "markdown",
   "metadata": {},
   "source": [
    "###\n",
    "\n"
   ]
  },
  {
   "attachments": {},
   "cell_type": "markdown",
   "metadata": {},
   "source": [
    "## Things to investigate further\n",
    "- model initialization\n",
    "- sgd algorithms\n",
    "- lr effect\n",
    "- harder problems\n",
    "- visualizing solution (check out neurons graph here - https://courses.cs.washington.edu/courses/cse446/18wi/sections/section8/XOR-Pytorch.html)"
   ]
  }
 ],
 "metadata": {
  "kernelspec": {
   "display_name": "3.11",
   "language": "python",
   "name": "python3"
  },
  "language_info": {
   "codemirror_mode": {
    "name": "ipython",
    "version": 3
   },
   "file_extension": ".py",
   "mimetype": "text/x-python",
   "name": "python",
   "nbconvert_exporter": "python",
   "pygments_lexer": "ipython3",
   "version": "3.11.3"
  },
  "orig_nbformat": 4
 },
 "nbformat": 4,
 "nbformat_minor": 2
}
